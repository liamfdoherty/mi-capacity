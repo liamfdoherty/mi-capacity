{
 "cells": [
  {
   "cell_type": "code",
   "execution_count": 1,
   "metadata": {},
   "outputs": [],
   "source": [
    "import torch\n",
    "import torch.nn as nn\n",
    "import torch.nn.functional as F\n",
    "import torchvision\n",
    "from torchvision.datasets import CIFAR10\n",
    "import torchvision.transforms as transforms\n",
    "import task_complexity\n",
    "import matplotlib.pyplot as plt\n",
    "import numpy as np"
   ]
  },
  {
   "cell_type": "code",
   "execution_count": 2,
   "metadata": {},
   "outputs": [],
   "source": [
    "class AddGaussianNoise(object):\n",
    "    def __init__(self, mean = 0, std = 1.):\n",
    "        self.std = std\n",
    "        self.mean = mean\n",
    "    \n",
    "    def __call__(self, tensor):\n",
    "        return tensor + torch.randn(tensor.size())*self.std + self.mean\n",
    "    \n",
    "    def __repr__(self):\n",
    "        return self.__class__.__name__ + '(mean={0}, std={1})'.format(self.mean, self.std)"
   ]
  },
  {
   "cell_type": "code",
   "execution_count": 3,
   "metadata": {},
   "outputs": [],
   "source": [
    "class Net_CIFAR10(nn.Module):\n",
    "    def __init__(self):\n",
    "        super().__init__()\n",
    "        self.fc1 = nn.Linear(32 * 32 * 3, 1024)\n",
    "        self.fc2 = nn.Linear(1024, 32 * 32 * 3)\n",
    "\n",
    "    def forward(self, x):\n",
    "        x = torch.flatten(x, 1)\n",
    "        x = F.relu(self.fc1(x))\n",
    "        x = self.fc2(x)\n",
    "        x = torch.reshape(x, (-1, 3, 32, 32))\n",
    "        return x"
   ]
  },
  {
   "cell_type": "code",
   "execution_count": 4,
   "metadata": {},
   "outputs": [],
   "source": [
    "criterion = nn.MSELoss()"
   ]
  },
  {
   "cell_type": "code",
   "execution_count": 5,
   "metadata": {},
   "outputs": [
    {
     "name": "stdout",
     "output_type": "stream",
     "text": [
      "Noise Level: 0.001\n",
      "MI Score: 0.01387316169873909\n",
      "Noise Level: 0.01\n",
      "MI Score: 0.013668853413963067\n",
      "Noise Level: 0.1\n",
      "MI Score: 0.013748495477376999\n",
      "Noise Level: 1.0\n",
      "MI Score: 0.014693348315390153\n",
      "Noise Level: 10.0\n",
      "MI Score: 0.015271912859752046\n",
      "Noise Level: 100.0\n",
      "MI Score: 0.016104534759693312\n",
      "Noise Level: 1000.0\n",
      "MI Score: 0.014569042590887982\n"
     ]
    }
   ],
   "source": [
    "noise_levels = [10**p for p in np.linspace(-3, 3, 7)]\n",
    "mi_values = []\n",
    "for noise_level in noise_levels:\n",
    "    print(f\"Noise Level: {noise_level}\")\n",
    "    \n",
    "    transform = transforms.Compose([\n",
    "        transforms.ToTensor(),\n",
    "        AddGaussianNoise(0., noise_level),\n",
    "        transforms.Normalize((0.5, 0.5, 0.5), (0.5, 0.5, 0.5))\n",
    "        ])\n",
    "    target_transform_cifar10 = transforms.Compose([\n",
    "        lambda x: torch.tensor(x),\n",
    "        lambda x: F.one_hot(x, num_classes = 10)\n",
    "        ])\n",
    "    \n",
    "    batch_size = 16\n",
    "\n",
    "    trainset_cifar10 = CIFAR10(root = '~/datasets', train = True, transform = transform, target_transform = target_transform_cifar10)\n",
    "    trainloader_cifar10 = torch.utils.data.DataLoader(trainset_cifar10, batch_size = batch_size, shuffle = True, num_workers = 2)\n",
    "    \n",
    "    example_set = next(iter(trainloader_cifar10))[0]\n",
    "\n",
    "    mi_score = task_complexity.compute_complexity(Net_CIFAR10, 10, trainloader_cifar10, criterion, n_bins = 100, autoencoder = True)\n",
    "    print(f\"MI Score: {mi_score}\")\n",
    "    mi_values.append(mi_score)"
   ]
  },
  {
   "cell_type": "code",
   "execution_count": null,
   "metadata": {},
   "outputs": [],
   "source": []
  }
 ],
 "metadata": {
  "kernelspec": {
   "display_name": "base",
   "language": "python",
   "name": "python3"
  },
  "language_info": {
   "codemirror_mode": {
    "name": "ipython",
    "version": 3
   },
   "file_extension": ".py",
   "mimetype": "text/x-python",
   "name": "python",
   "nbconvert_exporter": "python",
   "pygments_lexer": "ipython3",
   "version": "3.11.7"
  }
 },
 "nbformat": 4,
 "nbformat_minor": 2
}
