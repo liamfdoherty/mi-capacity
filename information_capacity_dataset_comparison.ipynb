{
 "cells": [
  {
   "cell_type": "code",
   "execution_count": 1,
   "metadata": {},
   "outputs": [],
   "source": [
    "import torch\n",
    "import torch.nn as nn\n",
    "import torch.nn.functional as F\n",
    "import torchvision\n",
    "from torchvision.datasets import CIFAR10, CIFAR100, MNIST, FashionMNIST\n",
    "import torchvision.transforms as transforms\n",
    "import task_complexity\n",
    "import matplotlib.pyplot as plt"
   ]
  },
  {
   "cell_type": "code",
   "execution_count": 2,
   "metadata": {},
   "outputs": [],
   "source": [
    "class Repeat(object):\n",
    "    def __init__(self, repeats):\n",
    "        self.repeats = repeats\n",
    "    \n",
    "    def __call__(self, tensor):\n",
    "        return torch.stack((tensor,)*self.repeats, dim = 1)\n",
    "    \n",
    "    def __repr__(self):\n",
    "        return self.__class__.__name__ + '(repeats = {})'.format(self.repeats)"
   ]
  },
  {
   "cell_type": "code",
   "execution_count": 3,
   "metadata": {},
   "outputs": [
    {
     "name": "stdout",
     "output_type": "stream",
     "text": [
      "Files already downloaded and verified\n",
      "Files already downloaded and verified\n"
     ]
    }
   ],
   "source": [
    "transform = transforms.Compose([\n",
    "    transforms.ToTensor(),\n",
    "    transforms.Normalize((0.5, 0.5, 0.5), (0.5, 0.5, 0.5))\n",
    "    ])\n",
    "mnist_transform = transforms.Compose([\n",
    "    transforms.ToTensor(),\n",
    "    transforms.Resize(32),\n",
    "    Repeat(3),\n",
    "    transforms.Normalize((0.5, 0.5, 0.5), (0.5, 0.5, 0.5))\n",
    "    ])\n",
    "\n",
    "target_transform_cifar10 = transforms.Compose([\n",
    "    lambda x: torch.tensor(x),\n",
    "    lambda x: F.one_hot(x, num_classes = 10)\n",
    "    ])\n",
    "target_transform_cifar100 = transforms.Compose([\n",
    "    lambda x: torch.tensor(x),\n",
    "    lambda x: F.one_hot(x, num_classes = 100)\n",
    "    ])\n",
    "\n",
    "batch_size = 128\n",
    "\n",
    "trainset_cifar10 = CIFAR10(root = '~/datasets/CIFAR10', train = True, transform = transform, target_transform = target_transform_cifar10, download = True)\n",
    "trainloader_cifar10 = torch.utils.data.DataLoader(trainset_cifar10, batch_size = batch_size, shuffle = True, num_workers = 2)\n",
    "\n",
    "trainset_cifar100 = CIFAR100(root = '~/datasets/CIFAR100', train = True, transform = transform, target_transform = target_transform_cifar100, download = True)\n",
    "trainloader_cifar100 = torch.utils.data.DataLoader(trainset_cifar100, batch_size = batch_size, shuffle = True, num_workers = 2)\n",
    "\n",
    "trainset_mnist = MNIST(root = '~/datasets', train = True, transform = mnist_transform, target_transform = target_transform_cifar10, download = True)\n",
    "trainloader_mnist = torch.utils.data.DataLoader(trainset_mnist, batch_size = batch_size, shuffle = True, num_workers = 2)\n",
    "\n",
    "trainset_fashionmnist = FashionMNIST(root = '~/datasets', train = True, transform = mnist_transform, target_transform = target_transform_cifar10, download = True)\n",
    "trainloader_fashionmnist = torch.utils.data.DataLoader(trainset_fashionmnist, batch_size = batch_size, shuffle = True, num_workers = 2)"
   ]
  },
  {
   "cell_type": "code",
   "execution_count": 4,
   "metadata": {},
   "outputs": [],
   "source": [
    "class Net_CIFAR10(nn.Module):\n",
    "    def __init__(self):\n",
    "        super().__init__()\n",
    "        self.fc1 = nn.Linear(32 * 32 * 3, 1024)\n",
    "        self.fc2 = nn.Linear(1024, 10)\n",
    "\n",
    "    def forward(self, x):\n",
    "        x = torch.flatten(x, 1)\n",
    "        x = F.relu(self.fc1(x))\n",
    "        x = F.softmax(self.fc2(x), dim = 0)\n",
    "        return x\n",
    "    \n",
    "class Net_CIFAR100(nn.Module):\n",
    "    def __init__(self):\n",
    "        super().__init__()\n",
    "        self.fc1 = nn.Linear(32 * 32 * 3, 1024)\n",
    "        self.fc2 = nn.Linear(1024, 100)\n",
    "\n",
    "    def forward(self, x):\n",
    "        x = torch.flatten(x, 1)\n",
    "        x = F.relu(self.fc1(x))\n",
    "        x = F.softmax(self.fc2(x), dim = 0)\n",
    "        return x"
   ]
  },
  {
   "cell_type": "code",
   "execution_count": 5,
   "metadata": {},
   "outputs": [],
   "source": [
    "criterion = nn.CrossEntropyLoss(reduction = \"none\")"
   ]
  },
  {
   "cell_type": "code",
   "execution_count": 6,
   "metadata": {},
   "outputs": [
    {
     "name": "stdout",
     "output_type": "stream",
     "text": [
      "--------------------------------------------------------\n",
      "ITERATION 0\n",
      "--------------------------------------------------------\n",
      "CIFAR10 Complexity Score: 0.006754767488872382\n",
      "CIFAR100 Complexity Score: 0.003037198847117839\n",
      "MNIST Complexity Score: 0.02239525037293788\n",
      "Fashion MNIST Complexity Score: 0.04369616636944196\n",
      "--------------------------------------------------------\n",
      "ITERATION 1\n",
      "--------------------------------------------------------\n",
      "CIFAR10 Complexity Score: 0.006435083356036042\n",
      "CIFAR100 Complexity Score: 0.0024315787888840035\n",
      "MNIST Complexity Score: 0.014892118644657781\n",
      "Fashion MNIST Complexity Score: 0.032876883737460005\n",
      "--------------------------------------------------------\n",
      "ITERATION 2\n",
      "--------------------------------------------------------\n",
      "CIFAR10 Complexity Score: 0.0057116949771254255\n",
      "CIFAR100 Complexity Score: 0.001774621576133395\n",
      "MNIST Complexity Score: 0.02118493234497043\n",
      "Fashion MNIST Complexity Score: 0.029743427310457538\n",
      "--------------------------------------------------------\n",
      "ITERATION 3\n",
      "--------------------------------------------------------\n",
      "CIFAR10 Complexity Score: 0.004732390224663874\n",
      "CIFAR100 Complexity Score: 0.002842969351426028\n",
      "MNIST Complexity Score: 0.010390219774009779\n",
      "Fashion MNIST Complexity Score: 0.04266344194405525\n",
      "--------------------------------------------------------\n",
      "ITERATION 4\n",
      "--------------------------------------------------------\n",
      "CIFAR10 Complexity Score: 0.011004889741619728\n",
      "CIFAR100 Complexity Score: 0.001955592998589939\n",
      "MNIST Complexity Score: 0.01886308688971372\n",
      "Fashion MNIST Complexity Score: 0.030922225573518425\n",
      "--------------------------------------------------------\n",
      "ITERATION 5\n",
      "--------------------------------------------------------\n",
      "CIFAR10 Complexity Score: 0.009469596993880725\n",
      "CIFAR100 Complexity Score: 0.00308534199826882\n",
      "MNIST Complexity Score: 0.02013315118774406\n",
      "Fashion MNIST Complexity Score: 0.039183047744545174\n",
      "--------------------------------------------------------\n",
      "ITERATION 6\n",
      "--------------------------------------------------------\n",
      "CIFAR10 Complexity Score: 0.00520325778164521\n",
      "CIFAR100 Complexity Score: 0.0024996183041992026\n",
      "MNIST Complexity Score: 0.02354874288064801\n",
      "Fashion MNIST Complexity Score: 0.04969906134578528\n",
      "--------------------------------------------------------\n",
      "ITERATION 7\n",
      "--------------------------------------------------------\n",
      "CIFAR10 Complexity Score: 0.0073588280493650515\n",
      "CIFAR100 Complexity Score: 0.002435677263811886\n",
      "MNIST Complexity Score: 0.019942919092972744\n",
      "Fashion MNIST Complexity Score: 0.03221320588275978\n",
      "--------------------------------------------------------\n",
      "ITERATION 8\n",
      "--------------------------------------------------------\n",
      "CIFAR10 Complexity Score: 0.0066471238243512865\n",
      "CIFAR100 Complexity Score: 0.0021081792788852916\n",
      "MNIST Complexity Score: 0.01690416701846109\n",
      "Fashion MNIST Complexity Score: 0.05149801893354633\n",
      "--------------------------------------------------------\n",
      "ITERATION 9\n",
      "--------------------------------------------------------\n",
      "CIFAR10 Complexity Score: 0.0061877165683950075\n",
      "CIFAR100 Complexity Score: 0.0016217780503513524\n",
      "MNIST Complexity Score: 0.015956712673614426\n",
      "Fashion MNIST Complexity Score: 0.03951120065872171\n"
     ]
    }
   ],
   "source": [
    "cifar10_scores = []\n",
    "cifar100_scores = []\n",
    "mnist_scores = []\n",
    "fashionmnist_scores = []\n",
    "for i in range(10):\n",
    "    print(\"--------------------------------------------------------\")\n",
    "    print(f\"ITERATION {i}\")\n",
    "    print(\"--------------------------------------------------------\")\n",
    "    complexity_score_cifar10 = task_complexity.compute_complexity(Net_CIFAR10, 10, trainloader_cifar10, criterion, n_bins = 100)\n",
    "    cifar10_scores.append(complexity_score_cifar10)\n",
    "    print(f\"CIFAR10 Complexity Score: {complexity_score_cifar10}\")\n",
    "\n",
    "    complexity_score_cifar100 = task_complexity.compute_complexity(Net_CIFAR100, 10, trainloader_cifar100, criterion, n_bins = 100)\n",
    "    cifar100_scores.append(complexity_score_cifar100)\n",
    "    print(f\"CIFAR100 Complexity Score: {complexity_score_cifar100}\")\n",
    "    \n",
    "    complexity_score_mnist = task_complexity.compute_complexity(Net_CIFAR10, 10, trainloader_mnist, criterion, n_bins = 100)\n",
    "    mnist_scores.append(complexity_score_mnist)\n",
    "    print(f\"MNIST Complexity Score: {complexity_score_mnist}\")\n",
    "\n",
    "    complexity_score_fashionmnist = task_complexity.compute_complexity(Net_CIFAR10, 10, trainloader_fashionmnist, criterion, n_bins = 100)\n",
    "    fashionmnist_scores.append(complexity_score_fashionmnist)\n",
    "    print(f\"Fashion MNIST Complexity Score: {complexity_score_fashionmnist}\")"
   ]
  },
  {
   "cell_type": "code",
   "execution_count": 13,
   "metadata": {},
   "outputs": [
    {
     "data": {
      "image/png": "[encoded data removed]",
      "text/plain": [
       "<Figure size 640x480 with 1 Axes>"
      ]
     },
     "metadata": {},
     "output_type": "display_data"
    }
   ],
   "source": [
    "plt.boxplot((mnist_scores, cifar10_scores, cifar100_scores), labels = [\"MNIST\", \"CIFAR10\", \"CIFAR100\"], showfliers = False)\n",
    "plt.title(\"MI Scores for Different Datasets\")\n",
    "plt.ylabel(\"Mutual Information\")\n",
    "plt.savefig(\"figures/dataset_MI_comparison.png\")"
   ]
  },
  {
   "cell_type": "code",
   "execution_count": null,
   "metadata": {},
   "outputs": [],
   "source": []
  }
 ],
 "metadata": {
  "kernelspec": {
   "display_name": "base",
   "language": "python",
   "name": "python3"
  },
  "language_info": {
   "codemirror_mode": {
    "name": "ipython",
    "version": 3
   },
   "file_extension": ".py",
   "mimetype": "text/x-python",
   "name": "python",
   "nbconvert_exporter": "python",
   "pygments_lexer": "ipython3",
   "version": "3.11.7"
  }
 },
 "nbformat": 4,
 "nbformat_minor": 2
}
