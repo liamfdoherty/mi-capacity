{
 "cells": [
  {
   "cell_type": "code",
   "execution_count": 1,
   "metadata": {},
   "outputs": [],
   "source": [
    "import torch\n",
    "import torch.nn as nn\n",
    "import torch.nn.functional as F\n",
    "import torchvision\n",
    "from torchvision.datasets import CIFAR10\n",
    "import torchvision.transforms as transforms\n",
    "import task_complexity\n",
    "import matplotlib.pyplot as plt\n",
    "import numpy as np"
   ]
  },
  {
   "cell_type": "code",
   "execution_count": 2,
   "metadata": {},
   "outputs": [],
   "source": [
    "transform = transforms.Compose([\n",
    "    transforms.ToTensor(),\n",
    "    transforms.Normalize((0.5, 0.5, 0.5), (0.5, 0.5, 0.5))\n",
    "    ])\n",
    "\n",
    "target_transform_cifar10 = transforms.Compose([\n",
    "    lambda x: torch.tensor(x),\n",
    "    lambda x: F.one_hot(x, num_classes = 10)\n",
    "    ])\n",
    "\n",
    "batch_size = 128\n",
    "\n",
    "trainset_cifar10 = CIFAR10(root = '../example_data/', train = True, transform = transform, target_transform = target_transform_cifar10)\n",
    "trainloader_cifar10 = torch.utils.data.DataLoader(trainset_cifar10, batch_size = batch_size, shuffle = True, num_workers = 2)"
   ]
  },
  {
   "cell_type": "code",
   "execution_count": 3,
   "metadata": {},
   "outputs": [],
   "source": [
    "criterion = nn.CrossEntropyLoss(reduction = \"none\")"
   ]
  },
  {
   "cell_type": "code",
   "execution_count": 4,
   "metadata": {},
   "outputs": [],
   "source": [
    "class Net_CIFAR10(nn.Module):\n",
    "        def __init__(self, hidden_nodes = 1024):\n",
    "            super().__init__()\n",
    "            self.fc1 = nn.Linear(32 * 32 * 3, hidden_nodes)\n",
    "            self.fc2 = nn.Linear(hidden_nodes, 10)\n",
    "\n",
    "        def forward(self, x):\n",
    "            x = torch.flatten(x, 1)\n",
    "            x = F.relu(self.fc1(x))\n",
    "            x = F.softmax(self.fc2(x), dim = 0)\n",
    "            return x"
   ]
  },
  {
   "cell_type": "code",
   "execution_count": 5,
   "metadata": {},
   "outputs": [],
   "source": [
    "class ClearCache:\n",
    "    def __enter__(self):\n",
    "        torch.cuda.empty_cache()\n",
    "\n",
    "    def __exit__(self, exc_type, exc_val, exc_tb):\n",
    "        torch.cuda.empty_cache() "
   ]
  },
  {
   "cell_type": "code",
   "execution_count": 6,
   "metadata": {},
   "outputs": [
    {
     "name": "stdout",
     "output_type": "stream",
     "text": [
      "Hidden Nodes: 1, Mi Score: 0.15666392526732764\n",
      "Hidden Nodes: 2, Mi Score: 0.05006834944861405\n",
      "Hidden Nodes: 3, Mi Score: 0.0369865348710805\n",
      "Hidden Nodes: 4, Mi Score: 0.030455812133684645\n",
      "Hidden Nodes: 5, Mi Score: 0.02897924052159384\n",
      "Hidden Nodes: 6, Mi Score: 0.017586833856396034\n",
      "Hidden Nodes: 7, Mi Score: 0.015120574827057087\n",
      "Hidden Nodes: 8, Mi Score: 0.02431657786320951\n",
      "Hidden Nodes: 9, Mi Score: 0.014331282562214831\n",
      "Hidden Nodes: 10, Mi Score: 0.008184636615522045\n",
      "Hidden Nodes: 11, Mi Score: 0.013626801181191528\n",
      "Hidden Nodes: 12, Mi Score: 0.006736767948083866\n",
      "Hidden Nodes: 13, Mi Score: 0.016885502267691255\n",
      "Hidden Nodes: 14, Mi Score: 0.014550899784072868\n",
      "Hidden Nodes: 15, Mi Score: 0.014364870497536764\n",
      "Hidden Nodes: 16, Mi Score: 0.013387320164045313\n",
      "Hidden Nodes: 17, Mi Score: 0.011687347974423723\n",
      "Hidden Nodes: 18, Mi Score: 0.008838601406947255\n",
      "Hidden Nodes: 19, Mi Score: 0.009522137627068439\n",
      "Hidden Nodes: 20, Mi Score: 0.0064870143464133\n",
      "Hidden Nodes: 21, Mi Score: 0.008473025432128356\n",
      "Hidden Nodes: 22, Mi Score: 0.008180989430135899\n",
      "Hidden Nodes: 23, Mi Score: 0.00836952322397222\n",
      "Hidden Nodes: 24, Mi Score: 0.010468254307634872\n",
      "Hidden Nodes: 25, Mi Score: 0.010274565178176598\n",
      "Hidden Nodes: 26, Mi Score: 0.008333064464366657\n",
      "Hidden Nodes: 27, Mi Score: 0.006989817329697612\n",
      "Hidden Nodes: 28, Mi Score: 0.008063987554637553\n",
      "Hidden Nodes: 29, Mi Score: 0.008335616860519313\n",
      "Hidden Nodes: 30, Mi Score: 0.0073539054694657935\n",
      "Hidden Nodes: 31, Mi Score: 0.012142535394721321\n",
      "Hidden Nodes: 32, Mi Score: 0.007678891514435904\n",
      "Hidden Nodes: 33, Mi Score: 0.01145061195241448\n",
      "Hidden Nodes: 34, Mi Score: 0.007178213226890939\n",
      "Hidden Nodes: 35, Mi Score: 0.01771331999084813\n",
      "Hidden Nodes: 36, Mi Score: 0.012647348957067539\n",
      "Hidden Nodes: 37, Mi Score: 0.011004793521196099\n",
      "Hidden Nodes: 38, Mi Score: 0.00858545162295199\n",
      "Hidden Nodes: 39, Mi Score: 0.006693878869342917\n",
      "Hidden Nodes: 40, Mi Score: 0.008705621488998005\n",
      "Hidden Nodes: 41, Mi Score: 0.00887651911282994\n",
      "Hidden Nodes: 42, Mi Score: 0.01083129219570056\n",
      "Hidden Nodes: 43, Mi Score: 0.007656558371889055\n",
      "Hidden Nodes: 44, Mi Score: 0.009864455090380808\n",
      "Hidden Nodes: 45, Mi Score: 0.01324486605485653\n",
      "Hidden Nodes: 46, Mi Score: 0.007195310757220241\n",
      "Hidden Nodes: 47, Mi Score: 0.010438157612398413\n",
      "Hidden Nodes: 48, Mi Score: 0.010130536915126331\n",
      "Hidden Nodes: 49, Mi Score: 0.005621266004451009\n",
      "Hidden Nodes: 50, Mi Score: 0.0053026849053217084\n",
      "Hidden Nodes: 51, Mi Score: 0.006655501860203916\n",
      "Hidden Nodes: 52, Mi Score: 0.007342914060415318\n",
      "Hidden Nodes: 53, Mi Score: 0.007846138066766706\n",
      "Hidden Nodes: 54, Mi Score: 0.008185729239236217\n",
      "Hidden Nodes: 55, Mi Score: 0.0111576206358861\n",
      "Hidden Nodes: 56, Mi Score: 0.004676437846814263\n",
      "Hidden Nodes: 57, Mi Score: 0.008408738622596612\n",
      "Hidden Nodes: 58, Mi Score: 0.011153140518837201\n",
      "Hidden Nodes: 59, Mi Score: 0.00982149645848418\n",
      "Hidden Nodes: 60, Mi Score: 0.010764162606077043\n",
      "Hidden Nodes: 61, Mi Score: 0.005144680400919199\n",
      "Hidden Nodes: 62, Mi Score: 0.006337828379374244\n",
      "Hidden Nodes: 63, Mi Score: 0.005683663459505883\n",
      "Hidden Nodes: 64, Mi Score: 0.009869197221810122\n",
      "Hidden Nodes: 65, Mi Score: 0.00860917347982948\n",
      "Hidden Nodes: 66, Mi Score: 0.006934086180251597\n",
      "Hidden Nodes: 67, Mi Score: 0.008603525720820127\n",
      "Hidden Nodes: 68, Mi Score: 0.007463380824872079\n",
      "Hidden Nodes: 69, Mi Score: 0.005759459750073415\n",
      "Hidden Nodes: 70, Mi Score: 0.0066178727632584256\n",
      "Hidden Nodes: 71, Mi Score: 0.005686631255020114\n",
      "Hidden Nodes: 72, Mi Score: 0.010600480678021551\n",
      "Hidden Nodes: 73, Mi Score: 0.005827614120605951\n",
      "Hidden Nodes: 74, Mi Score: 0.004815890035812398\n",
      "Hidden Nodes: 75, Mi Score: 0.009711297707323041\n",
      "Hidden Nodes: 76, Mi Score: 0.0074384837766037215\n",
      "Hidden Nodes: 77, Mi Score: 0.007417624762045438\n",
      "Hidden Nodes: 78, Mi Score: 0.007689869870638688\n",
      "Hidden Nodes: 79, Mi Score: 0.009022333876449018\n",
      "Hidden Nodes: 80, Mi Score: 0.006066988205532642\n",
      "Hidden Nodes: 81, Mi Score: 0.008689576775208874\n",
      "Hidden Nodes: 82, Mi Score: 0.00785768850682178\n",
      "Hidden Nodes: 83, Mi Score: 0.00893553105154199\n",
      "Hidden Nodes: 84, Mi Score: 0.008306203471456275\n",
      "Hidden Nodes: 85, Mi Score: 0.011206273851170678\n",
      "Hidden Nodes: 86, Mi Score: 0.005246004323183229\n",
      "Hidden Nodes: 87, Mi Score: 0.006368227475762822\n",
      "Hidden Nodes: 88, Mi Score: 0.007499056480588351\n",
      "Hidden Nodes: 89, Mi Score: 0.0067383542012442454\n",
      "Hidden Nodes: 90, Mi Score: 0.008495030670441661\n",
      "Hidden Nodes: 91, Mi Score: 0.009975700652833819\n",
      "Hidden Nodes: 92, Mi Score: 0.00624375514119091\n",
      "Hidden Nodes: 93, Mi Score: 0.00389083384117761\n",
      "Hidden Nodes: 94, Mi Score: 0.00922169649753446\n",
      "Hidden Nodes: 95, Mi Score: 0.007528688326210009\n",
      "Hidden Nodes: 96, Mi Score: 0.006162166702033289\n",
      "Hidden Nodes: 97, Mi Score: 0.006880768812617788\n",
      "Hidden Nodes: 98, Mi Score: 0.010489809699569808\n",
      "Hidden Nodes: 99, Mi Score: 0.007372042154446312\n",
      "Hidden Nodes: 100, Mi Score: 0.004701158994403709\n"
     ]
    }
   ],
   "source": [
    "hidden_node_amounts = [int(num) for num in np.linspace(1, 100, 100)]\n",
    "mi_scores = []\n",
    "for hidden_nodes in hidden_node_amounts:\n",
    "    with ClearCache():\n",
    "        mi_score = task_complexity.compute_complexity(Net_CIFAR10, 10, trainloader_cifar10, criterion, n_bins = 100, network_architecture_parameters = [hidden_nodes])\n",
    "    print(f\"Hidden Nodes: {hidden_nodes}, Mi Score: {mi_score}\")\n",
    "    mi_scores.append(mi_score)"
   ]
  },
  {
   "cell_type": "code",
   "execution_count": 7,
   "metadata": {},
   "outputs": [
    {
     "data": {
      "image/png": "[encoded data removed]",
      "text/plain": [
       "<Figure size 640x480 with 1 Axes>"
      ]
     },
     "metadata": {},
     "output_type": "display_data"
    }
   ],
   "source": [
    "plt.plot(hidden_node_amounts, mi_scores)\n",
    "plt.yscale(\"log\")"
   ]
  },
  {
   "cell_type": "code",
   "execution_count": null,
   "metadata": {},
   "outputs": [],
   "source": []
  }
 ],
 "metadata": {
  "kernelspec": {
   "display_name": "base",
   "language": "python",
   "name": "python3"
  },
  "language_info": {
   "codemirror_mode": {
    "name": "ipython",
    "version": 3
   },
   "file_extension": ".py",
   "mimetype": "text/x-python",
   "name": "python",
   "nbconvert_exporter": "python",
   "pygments_lexer": "ipython3",
   "version": "3.11.7"
  }
 },
 "nbformat": 4,
 "nbformat_minor": 2
}
